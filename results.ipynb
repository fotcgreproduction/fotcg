{
 "cells": [
  {
   "attachments": {},
   "cell_type": "markdown",
   "metadata": {},
   "source": [
    "# Focus on the Common Good: Reproducibility\n",
    "\n",
    "---\n",
    "\n",
    "All our experiments were run using computing resources provided by a cluster computer. In combination with this, we use [Weights and Biases](https://wandb.ai/home) to monitor and retrieve progress and results.\n",
    "Training and evaluating some of these models on some of the datasets can take hours, so this is our preferred way of running the code.\n",
    "\n",
    "We provide various job scripts designed for [SLURM](https://en.wikipedia.org/wiki/Slurm_Workload_Manager) to execute code. In essence, each starts up a new experiment via the WILDS framework: `wilds/examples/run_expt.py` with various parameters in its name.\n",
    "These job scripts can be found in the `slurm_jobs` folder.\n",
    "\n",
    "More info on how to run algorithms and datasets can also be found in the [WILDS documentation](https://github.com/p-lambda/wilds#using-the-example-scripts)."
   ]
  },
  {
   "attachments": {},
   "cell_type": "markdown",
   "metadata": {},
   "source": [
    "---\n",
    "\n",
    "### Several dependencies need to be installed. Our preferred method is to use conda:"
   ]
  },
  {
   "cell_type": "code",
   "execution_count": null,
   "metadata": {},
   "outputs": [],
   "source": [
    "!conda env create --name fact3 --file=fact3.yaml"
   ]
  },
  {
   "attachments": {},
   "cell_type": "markdown",
   "metadata": {},
   "source": [
    "---\n",
    "\n",
    "### Next, set up a `wandb` API key to be able to monitor and retrieve results\n",
    "see also the reference [here](https://docs.wandb.ai/quickstart).\n",
    "\n",
    "1. create a wandb account, if not already done\n",
    "2. install wandb: using `pip install wandb`, if not already done\n",
    "3. in the console, login to wandb: `wandb login` and provide your wandb API key, which can be found in your account settings. From now on, wandb will be configured to use your account.\n",
    "4. We advice to select the option to store the API key locally, so that you do not have to login every time you want to start an experiment. Our jobfiles are configured to use wandb for logging, and to store the results of the experiments."
   ]
  },
  {
   "attachments": {},
   "cell_type": "markdown",
   "metadata": {},
   "source": [
    "---\n",
    "\n",
    "### Queue a new job by using one of the provided jobfiles.\n",
    "If necessary, these job files can be edited to run specific configurations, which should be fairly straight forward. Both the [WILDS `run_expt` code](https://github.com/p-lambda/wilds/blob/main/examples/run_expt.py) and the original [CGD documentation](https://github.com/vihari/cgd#instructions-for-running) provide details on how to configure additional hyperparameters. Here is an example:"
   ]
  },
  {
   "cell_type": "code",
   "execution_count": null,
   "metadata": {},
   "outputs": [],
   "source": [
    "!sbatch run_cgd_celebA.job"
   ]
  },
  {
   "attachments": {},
   "cell_type": "markdown",
   "metadata": {},
   "source": [
    "---\n",
    "\n",
    "### Process results\n",
    "Any progress can be monitored via `https://wandb.ai/<your_team>/<your_project>`. It is also possible to retrieve results using the `wandb` python api, which returns a [`pandas.DataFrame`](https://pandas.pydata.org/pandas-docs/stable/reference/api/pandas.DataFrame.html) containing the results.:"
   ]
  },
  {
   "cell_type": "code",
   "execution_count": null,
   "metadata": {},
   "outputs": [],
   "source": [
    "import wandb\n",
    "api = wandb.Api()\n",
    "\n",
    "run = api.run(\"<your_team>/<your_project>/<your_run_id>\")\n",
    "\n",
    "df = run.history()"
   ]
  }
 ],
 "metadata": {
  "kernelspec": {
   "display_name": "fact",
   "language": "python",
   "name": "python3"
  },
  "language_info": {
   "name": "python",
   "version": "3.10.8 (main, Nov 24 2022, 14:13:03) [GCC 11.2.0]"
  },
  "orig_nbformat": 4,
  "vscode": {
   "interpreter": {
    "hash": "f9f3058e275bb5b6077aff41309f5bb57487dba10a2e38a0519df0e7005293f3"
   }
  }
 },
 "nbformat": 4,
 "nbformat_minor": 2
}
